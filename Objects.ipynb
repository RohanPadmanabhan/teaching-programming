{
 "cells": [
  {
   "cell_type": "markdown",
   "metadata": {},
   "source": [
    "# Object oriented programming"
   ]
  },
  {
   "cell_type": "markdown",
   "metadata": {},
   "source": [
    "This exercise will help walk you through object oriented programming. We will be implementing a library system to help us keep track of the books we have in the library and the number of copies of each book."
   ]
  },
  {
   "cell_type": "markdown",
   "metadata": {},
   "source": [
    "## The book class"
   ]
  },
  {
   "cell_type": "markdown",
   "metadata": {},
   "source": [
    "We'll start by implementing the book class. This process has been broken down into steps. Attempt each step in he code block below before moving on the next one.\n",
    "\n",
    "1. The `__init__(self, name, total_copies)` constructor is called whenever a new book object is made. Inside, we want to be able to store the name and number of copies for later use. We will also want to keep track of the number of copies on loan at a given point (initially 0). Try and add code to do this below.\n",
    "\n",
    "\n",
    "2. We also want to add a function to return the number of copies currently available. Hint: we can do this in one line!\n",
    "\n",
    "\n",
    "3. Next, we want to add a method to be able to loan a book. When this happens, we first need to check if there are any available copies. If there are, then we should increase the number of copies on load and print a message saying that we have loaned a copy. If there are not, then we should print a message saying we cannot load the book out.\n",
    "\n",
    "\n",
    "4. Lastly, we want to add a method to return a book. We will assume that actually had the book if they are returning it so all we need to do is decrease the count of number of books on loan by 1 and print a message saying the book has been returned."
   ]
  },
  {
   "cell_type": "code",
   "execution_count": null,
   "metadata": {},
   "outputs": [],
   "source": [
    "class Book:\n",
    "    \n",
    "    def __init__(self, name, total_copies):\n",
    "        self.name = name\n",
    "        self.total_copies = total_copies\n",
    "        self.copies_on_loan = 0\n",
    "        \n",
    "    def get_num_copies_available(self):\n",
    "        return self.total_copies - self.copies_on_loan\n",
    "\n",
    "    def loan_book(self):\n",
    "        if self.copies_on_loan >= self.total_copies:\n",
    "            print(\"Cannot loan book. No available copies.\")\n",
    "            return\n",
    "        \n",
    "        self.copies_on_loan += 1\n",
    "        print(\"Book loaned\")\n",
    "        \n",
    "    def return_book(self):\n",
    "        self.copies_on_loan -= 1\n",
    "        print(\"Book returned\")"
   ]
  },
  {
   "cell_type": "markdown",
   "metadata": {},
   "source": [
    "Now that we have made a book class, let's test it out! Run the code below. This will take the steps outlined in comments:"
   ]
  },
  {
   "cell_type": "code",
   "execution_count": null,
   "metadata": {},
   "outputs": [],
   "source": [
    "# A new book will be created with one copy\n",
    "b = Book(\"Harry Potter\", 1)\n",
    "\n",
    "# We check how many copies are available. There should be 1.\n",
    "assert b.get_num_copies_available() == 1\n",
    "\n",
    "# We will loan the book out. The system should tell us we succeeded!\n",
    "b.loan_book()\n",
    "\n",
    "# We check how many copies are available. There should be 0.\n",
    "assert b.get_num_copies_available() == 0\n",
    "\n",
    "# We return the book\n",
    "b.return_book()\n",
    "\n",
    "# We check how many copies are available. There should be 1.\n",
    "assert b.get_num_copies_available() == 1"
   ]
  },
  {
   "cell_type": "markdown",
   "metadata": {},
   "source": [
    "## The library class"
   ]
  },
  {
   "cell_type": "markdown",
   "metadata": {},
   "source": [
    "Now we will create a library class to hold our books in. Again, the `__init__(self)` constructor is called whenever a new library object is made. Inside, we want to create a dictionary in which we can store our books!\n",
    "\n",
    "This has been broken down in to steps for you. Attempt each step in the code block below before moving on to the next one.\n",
    "\n",
    "1. Now we need to add a method to add a book into the library. We will get a book name and the number of copies we have. To do this, we should make a new book object with the name and number of copies. We should then save this book object into our dictionary.\n",
    "\n",
    "\n",
    "2. We also need to be able to find the number of copies of a book in our library. To do this, retrieve the book from the library and call the `get_num_copies_available()` method we wrote earlier. This method should print the number of copies available.\n",
    "\n",
    "\n",
    "3. We also need to be able to loan a book. This is very similar to the method we wrote above in that we need to first retrieve the correct book and then call the appropriate method from the `Book` class.\n",
    "\n",
    "\n",
    "4. Lastly, we need to do the same for returning a book.\n"
   ]
  },
  {
   "cell_type": "code",
   "execution_count": null,
   "metadata": {},
   "outputs": [],
   "source": [
    "class Library:\n",
    "    \n",
    "    # This function runs whenever we create a new Library object\n",
    "    def __init__(self):\n",
    "        self.books = {}\n",
    "        \n",
    "        \n",
    "    # Saves a book into the library\n",
    "    def add_book(self, book_name, num_copies):\n",
    "        self.books[book_name] = Book(book_name, num_copies)\n",
    "        \n",
    "        \n",
    "    def how_many_book_copies(self, book_title):\n",
    "        if book_title not in self.books:\n",
    "            print(\"Book not found in library\")\n",
    "            return\n",
    "        \n",
    "        num_copies = self.books[book_title].get_num_copies_available()\n",
    "        print(\"There are \" + str(num_copies), \" copies available\")\n",
    "\n",
    "    # Retrieves a book from the library\n",
    "    def loan_a_book(self, book_title):\n",
    "        if book_title not in self.books:\n",
    "            print(\"Book not found in library\")\n",
    "            return\n",
    "        \n",
    "        self.books[book_title].loan_book()\n",
    "        \n",
    "    # Retrieves a book from the library\n",
    "    def return_a_book(self, book_title):\n",
    "        if book_title not in self.books:\n",
    "            print(\"Book not found in library\")\n",
    "            return\n",
    "        \n",
    "        self.books[book_title].return_book()"
   ]
  },
  {
   "cell_type": "markdown",
   "metadata": {},
   "source": [
    "## Let's try it all out!"
   ]
  },
  {
   "cell_type": "markdown",
   "metadata": {},
   "source": [
    "If you've successfully implemented the above then we should be able to now run the whole system! Run the code below to see if it works!"
   ]
  },
  {
   "cell_type": "code",
   "execution_count": null,
   "metadata": {},
   "outputs": [],
   "source": [
    "# Create some books\n",
    "library = Library()\n",
    "library.add_book(\"The hunger games\", 5)\n",
    "library.add_book(\"Harry Potter\", 2)\n",
    "library.add_book(\"Oliver Twist\", 1)\n",
    "\n",
    "\n",
    "# Run the system forever\n",
    "while True:\n",
    "    \n",
    "    mode = input(\"What would you like to do? query/loan/return  \")\n",
    "    book_name = input(\"Which book are you interested in?  \")\n",
    "    \n",
    "    \n",
    "    if mode == \"query\":\n",
    "        library.how_many_book_copies(book_name)\n",
    "    elif mode == \"loan\":\n",
    "        library.loan_a_book(book_name)\n",
    "    elif mode == \"return\":\n",
    "        library.return_a_book(book_name)\n",
    "    else:\n",
    "        print(\"Invalid mode. Please choose query/return/loan\")\n"
   ]
  },
  {
   "cell_type": "markdown",
   "metadata": {},
   "source": [
    "You've reached the end of the exercise - well done! Try and think about other features a library might need and how we could write code to implement them."
   ]
  }
 ],
 "metadata": {
  "kernelspec": {
   "display_name": "Python 3",
   "language": "python",
   "name": "python3"
  },
  "language_info": {
   "codemirror_mode": {
    "name": "ipython",
    "version": 3
   },
   "file_extension": ".py",
   "mimetype": "text/x-python",
   "name": "python",
   "nbconvert_exporter": "python",
   "pygments_lexer": "ipython3",
   "version": "3.6.7"
  }
 },
 "nbformat": 4,
 "nbformat_minor": 2
}
