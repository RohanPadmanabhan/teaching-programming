{
 "cells": [
  {
   "cell_type": "markdown",
   "metadata": {},
   "source": [
    "# Sorting - A practical exercise"
   ]
  },
  {
   "cell_type": "markdown",
   "metadata": {},
   "source": [
    "# Objectives"
   ]
  },
  {
   "cell_type": "markdown",
   "metadata": {},
   "source": [
    "The aim of this notebook is to help you understand different sorting algorithms and their performance. There is a lot of code in the notebook that you do not need to worry about. The only things you should worry about are the 3 sorting algorithms you will have to implement. These are:\n",
    "- Bubble sort\n",
    "- Insertion sort\n",
    "- Merge sort\n",
    "\n",
    "Do not worry if you cannot complete these in the lesson. They are purely for you to get a bit more experience with different sorting algorithms. If you are really interested, these notebooks are accessible from home as well."
   ]
  },
  {
   "cell_type": "markdown",
   "metadata": {},
   "source": [
    "# Helper functions"
   ]
  },
  {
   "cell_type": "markdown",
   "metadata": {},
   "source": [
    "Here we define a collection of functions that will be useful for the rest of the exercise. You do not need to worry about these functions.\n",
    "\n",
    "You'll need to run this cell to get started."
   ]
  },
  {
   "cell_type": "code",
   "execution_count": null,
   "metadata": {},
   "outputs": [],
   "source": [
    "# so our plots get drawn in the notebook\n",
    "%matplotlib inline\n",
    "from matplotlib import pyplot as plt\n",
    "from random import randint\n",
    "from time import clock\n",
    "from random import randrange\n",
    "import numpy as np\n",
    "\n",
    "# a timer - runs the provided function and reports the\n",
    "# run time in ms\n",
    "def time_f(f):\n",
    "    before = clock()\n",
    "    f()\n",
    "    after = clock()\n",
    "    return after - before\n",
    "\n",
    "def reject_outliers(data):\n",
    "    m = 1.5\n",
    "    u = np.mean(data)\n",
    "    s = np.std(data)\n",
    "    filtered = [e for e in data if (u - m * s < e < u + m * s)]\n",
    "    return filtered\n",
    "\n",
    "def time_sorts(lower, upper, steps, sorts, sort_labels):\n",
    "    # Create a list with lists of times for each sorting algorithm\n",
    "    times = [[] for _ in range(len(sorts) + 1)]\n",
    "    \n",
    "    # Loop to a list of size n\n",
    "    for i in range(lower, upper, steps):\n",
    "        # Apply each sort \n",
    "        for sort_index, sort in enumerate(sorts):\n",
    "            unavg_time = []\n",
    "            # Average the time over 100 sorts of the list\n",
    "            for j in range(100):\n",
    "                rand_list_temp = [randrange(0, 2000) for _ in range(i)]\n",
    "                runtime = time_f(lambda: sort(rand_list_temp))\n",
    "                unavg_time.append(runtime)\n",
    "            \n",
    "            # Calculate and save the average runtime (without outliers)\n",
    "            unavg_time = reject_outliers(unavg_time)\n",
    "            avg_runtime = sum(unavg_time) / len(unavg_time)\n",
    "            times[sort_index].append(avg_runtime)\n",
    "    return times\n",
    "\n",
    "def benchmark_sorts(sorts, lower, upper, steps):\n",
    "    # Get list of sort names\n",
    "    sort_labels = [sort.__name__ for sort in sorts]\n",
    "    # Calculate sort times\n",
    "    times = time_sorts(lower, upper, steps, sorts, sort_labels)\n",
    "    \n",
    "    # Plot each sorting algorithm with its name\n",
    "    for index, sort_label in enumerate(sort_labels):\n",
    "        plt.plot(range(lower, upper, steps), times[index], label=sort_label)\n",
    "        \n",
    "    # Add axis labels and legend\n",
    "    plt.xlabel('n')\n",
    "    plt.ylabel('time (/s)')\n",
    "    plt.legend(sort_labels)\n",
    "    \n",
    "    plt.show()\n",
    "\n",
    "def test_sort(sort_func):\n",
    "    \n",
    "    n = 100\n",
    "    x = [randint(0, n) for _ in range(n)]\n",
    "\n",
    "    sort_name = sort_func.__name__\n",
    "    if is_sorted(sort_func(x)):\n",
    "        print(sort_name + \" works!\")\n",
    "    else:\n",
    "        print(sort_name + \" has failed.\")\n",
    "\n",
    "def is_sorted(l):\n",
    "    return all([l[i] <= l[i+1] for i in range(len(l)-1)])\n"
   ]
  },
  {
   "cell_type": "markdown",
   "metadata": {},
   "source": [
    "## Task 1: Bubble Sort"
   ]
  },
  {
   "cell_type": "markdown",
   "metadata": {},
   "source": [
    "In this task you are asked to implement `bubble_sort`. You have been provided with test cases to see if your implementation works. Do not change the function defintion. Make sure you return the sorted array even if you choose to sort in place."
   ]
  },
  {
   "cell_type": "code",
   "execution_count": null,
   "metadata": {},
   "outputs": [],
   "source": [
    "def bubble_sort(a):                    \n",
    "    return a"
   ]
  },
  {
   "cell_type": "markdown",
   "metadata": {},
   "source": [
    "Run this test to confirm your implementation is correct. Do not edit the test cases."
   ]
  },
  {
   "cell_type": "code",
   "execution_count": null,
   "metadata": {},
   "outputs": [],
   "source": [
    "test_sort(bubble_sort)"
   ]
  },
  {
   "cell_type": "markdown",
   "metadata": {},
   "source": [
    "## Task 2: Insertion Sort"
   ]
  },
  {
   "cell_type": "markdown",
   "metadata": {},
   "source": [
    "In this task you are asked to implement `insertion_sort`. You have been provided with test cases to see if your implementation works. Do not change the function defintion. Make sure you return the sorted array even if you choose to sort in place."
   ]
  },
  {
   "cell_type": "code",
   "execution_count": null,
   "metadata": {},
   "outputs": [],
   "source": [
    "def insertion_sort(a):\n",
    "    return a"
   ]
  },
  {
   "cell_type": "markdown",
   "metadata": {},
   "source": [
    "Run this test to confirm your implementation is correct. Do not edit the test cases."
   ]
  },
  {
   "cell_type": "code",
   "execution_count": null,
   "metadata": {},
   "outputs": [],
   "source": [
    "test_sort(insertion_sort)\n"
   ]
  },
  {
   "cell_type": "markdown",
   "metadata": {},
   "source": [
    "## Task 3: Merge Sort"
   ]
  },
  {
   "cell_type": "markdown",
   "metadata": {},
   "source": [
    "In this task you are asked to implement `merge_sort`. You have been provided with test cases to see if your implementation works. Do not change the function defintion. Make sure you return the sorted array even if you choose to sort in place."
   ]
  },
  {
   "cell_type": "code",
   "execution_count": null,
   "metadata": {},
   "outputs": [],
   "source": [
    "def merge_sort(list):\n",
    "    return merged_list"
   ]
  },
  {
   "cell_type": "markdown",
   "metadata": {},
   "source": [
    "Use this test to confirm your implementation is correct."
   ]
  },
  {
   "cell_type": "code",
   "execution_count": null,
   "metadata": {},
   "outputs": [],
   "source": [
    "test_sort(merge_sort)"
   ]
  },
  {
   "cell_type": "markdown",
   "metadata": {},
   "source": [
    "# Analysing the running time performance of bubble sort, insertion_sort and merge_sort"
   ]
  },
  {
   "cell_type": "markdown",
   "metadata": {},
   "source": [
    "Here we will compare the running times of insertion sort, bubble sort, and merge sort. You do not need to make any modifications to this code. Just run the code below."
   ]
  },
  {
   "cell_type": "code",
   "execution_count": null,
   "metadata": {},
   "outputs": [],
   "source": [
    "benchmark_sorts([bubble_sort, merge_sort, insertion_sort], 1, 10, 1)\n",
    "benchmark_sorts([bubble_sort, merge_sort, insertion_sort], 1, 120, 1)\n",
    "benchmark_sorts([bubble_sort, merge_sort, insertion_sort], 1, 1000, 100)"
   ]
  },
  {
   "cell_type": "markdown",
   "metadata": {},
   "source": [
    "You may notice that insertion sort performs better than merge sort for small lists. This is despite merge sort having a theoretically faster run time! If you want to know why, come speak to me!"
   ]
  },
  {
   "cell_type": "markdown",
   "metadata": {},
   "source": [
    "# Never write your own sort!"
   ]
  },
  {
   "cell_type": "markdown",
   "metadata": {},
   "source": [
    "Although we've just seen how you can, it's important to note that you should never write your own sort! This is because the inbuilt sort often makes use of extremely advanced features that make it faster than something we could write."
   ]
  },
  {
   "cell_type": "code",
   "execution_count": null,
   "metadata": {},
   "outputs": [],
   "source": [
    "def inbuilt_sort(a):\n",
    "    return a.sort()"
   ]
  },
  {
   "cell_type": "markdown",
   "metadata": {},
   "source": [
    "Run the benchmark below to see the performance difference!"
   ]
  },
  {
   "cell_type": "code",
   "execution_count": null,
   "metadata": {},
   "outputs": [],
   "source": [
    "benchmark_sorts([merge_sort, inbuilt_sort], 1, 1000, 100)"
   ]
  }
 ],
 "metadata": {
  "kernelspec": {
   "display_name": "Python 3",
   "language": "python",
   "name": "python3"
  },
  "language_info": {
   "codemirror_mode": {
    "name": "ipython",
    "version": 3
   },
   "file_extension": ".py",
   "mimetype": "text/x-python",
   "name": "python",
   "nbconvert_exporter": "python",
   "pygments_lexer": "ipython3",
   "version": "3.6.7"
  }
 },
 "nbformat": 4,
 "nbformat_minor": 1
}
