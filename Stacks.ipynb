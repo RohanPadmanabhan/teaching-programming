{
 "cells": [
  {
   "cell_type": "markdown",
   "metadata": {},
   "source": [
    "# Stacks"
   ]
  },
  {
   "cell_type": "markdown",
   "metadata": {},
   "source": [
    "## Implementation"
   ]
  },
  {
   "cell_type": "markdown",
   "metadata": {},
   "source": [
    "You will now write your own implementation of a stack to help you better understand how it works. Add your own implementation to the methods below. You will need to add attributes to the class so that you can store the data and keep track of the state of the stack.\n",
    "\n",
    "Note that anything between `\"\"\" \"\"\"` is just a comment. These are there to help you understand what each function should do."
   ]
  },
  {
   "cell_type": "code",
   "execution_count": 5,
   "metadata": {},
   "outputs": [],
   "source": [
    "class Stack:\n",
    "    \n",
    "    def __init__(self, max_size=10):\n",
    "        \"\"\"\n",
    "        Set up the stack\n",
    "        :param max_size: The max number of elements that the stack can hold. Default 10.\n",
    "        \"\"\"\n",
    "        self._max_size = max_size\n",
    "        self._values = [None] * max_size\n",
    "        self._top = 0\n",
    "        \n",
    "        \n",
    "    def is_empty(self):\n",
    "        \"\"\"\n",
    "        Check if the stack contains 0 items\n",
    "        :return: Boolean true if the stack has 0 elements. False otherwise.\n",
    "        \"\"\"\n",
    "        return self._top == 0\n",
    "    \n",
    "    def is_full(self):\n",
    "        \"\"\"\n",
    "        Check if the stack is full (contains the maximum number of elements it can hold).\n",
    "        :return: Boolean true if stack is full. False otherwise.\n",
    "        \"\"\"\n",
    "        return self._top == self._max_size\n",
    "    \n",
    "    def push(self, value):\n",
    "        \"\"\"\n",
    "        Adds a value to the top of the stack. Raises an exception if the stack is already full\n",
    "        :param value: The value to be added to the top of the stack\n",
    "        :return: None\n",
    "        \"\"\"\n",
    "        if self.is_full():\n",
    "            raise Exception(\"Stack is full. Cannot push to stack\")\n",
    "        \n",
    "        self._values[self._top] = value\n",
    "        self._top += 1\n",
    "    \n",
    "    def pop(self):\n",
    "        \"\"\"\n",
    "        Remove an element from the top of the stack\n",
    "        :return: The value removed from the top of the stack\n",
    "        \"\"\"\n",
    "        if self.is_empty():\n",
    "            raise Exception(\"Stack is empty. Cannot pop from stack.\")\n",
    "        \n",
    "        self._top -= 1\n",
    "        return self._values[self._top]\n"
   ]
  },
  {
   "cell_type": "markdown",
   "metadata": {},
   "source": [
    "## Test cases"
   ]
  },
  {
   "cell_type": "markdown",
   "metadata": {},
   "source": [
    "You are provided with test cases that you can run to test your implementation. You should read over the tests and try and see what they are testing."
   ]
  },
  {
   "cell_type": "code",
   "execution_count": 6,
   "metadata": {},
   "outputs": [],
   "source": [
    "import random\n",
    "import pytest\n",
    "\n",
    "\n",
    "def test_initialised_empty():\n",
    "    s = Stack()\n",
    "    assert s.is_empty()\n",
    "    \n",
    "def test_not_empty_after_push():\n",
    "    s = Stack()\n",
    "    s.push(0)\n",
    "    assert not s.is_empty()\n",
    "    \n",
    "def test_full():\n",
    "    s = Stack(1)\n",
    "    s.push(0)\n",
    "    assert s.is_full()\n",
    "    \n",
    "def test_single_value():\n",
    "    s = Stack()\n",
    "    value = 5\n",
    "    s.push(value)\n",
    "    assert s.pop() == value\n",
    "\n",
    "def test_ordering():\n",
    "    size = 50\n",
    "    values = random_array(size)\n",
    "    s = Stack(size)\n",
    "    \n",
    "    # Push the values on to the stack\n",
    "    for val in values:\n",
    "        s.push(val)\n",
    "        \n",
    "    # Reverse the list and compare to the stack\n",
    "    values.reverse()\n",
    "    for val in values:\n",
    "        assert s.pop() == val\n",
    "        \n",
    "def test_interleaved_use():\n",
    "    values = random_array(100)\n",
    "    s = Stack()\n",
    "    \n",
    "    for val in values:\n",
    "        s.push(val)\n",
    "        assert val == s.pop()\n",
    "    \n",
    "        \n",
    "def test_too_many_values():\n",
    "    with pytest.raises(Exception):\n",
    "        s = Stack(1)\n",
    "        s.push(5)\n",
    "        s.push(6)\n",
    "        \n",
    "\n",
    "\n",
    "### Helper functions ###\n",
    "\n",
    "def random_array(size):\n",
    "    random.seed(5)\n",
    "    return [random.random() for _ in range(size)]"
   ]
  },
  {
   "cell_type": "markdown",
   "metadata": {},
   "source": [
    "Unfortunately, jupyter notebooks do not support using pytest. As such, we are limited to calling each test function manually. This means that you will not receive the nice test output normally provided but will get the normal stack trace instead. If there are no warnings, that means your tests passed!"
   ]
  },
  {
   "cell_type": "code",
   "execution_count": 8,
   "metadata": {},
   "outputs": [],
   "source": [
    "test_initialised_empty()\n",
    "test_not_empty_after_push()\n",
    "test_full()\n",
    "test_single_value()\n",
    "test_ordering()\n",
    "test_interleaved_use()\n",
    "test_too_many_values()"
   ]
  }
 ],
 "metadata": {
  "kernelspec": {
   "display_name": "Python 3",
   "language": "python",
   "name": "python3"
  },
  "language_info": {
   "codemirror_mode": {
    "name": "ipython",
    "version": 3
   },
   "file_extension": ".py",
   "mimetype": "text/x-python",
   "name": "python",
   "nbconvert_exporter": "python",
   "pygments_lexer": "ipython3",
   "version": "3.6.7"
  }
 },
 "nbformat": 4,
 "nbformat_minor": 2
}
